{
  "nbformat": 4,
  "nbformat_minor": 0,
  "metadata": {
    "colab": {
      "name": "toy_distillation",
      "provenance": [],
      "collapsed_sections": [],
      "machine_shape": "hm",
      "authorship_tag": "ABX9TyMdpLQhjZdLIkMyNxnN8Ek8",
      "include_colab_link": true
    },
    "kernelspec": {
      "name": "python3",
      "display_name": "Python 3"
    },
    "language_info": {
      "name": "python"
    },
    "accelerator": "GPU"
  },
  "cells": [
    {
      "cell_type": "markdown",
      "metadata": {
        "id": "view-in-github",
        "colab_type": "text"
      },
      "source": [
        "<a href=\"https://colab.research.google.com/github/kingyekong/first/blob/main/toy_distillation.ipynb\" target=\"_parent\"><img src=\"https://colab.research.google.com/assets/colab-badge.svg\" alt=\"Open In Colab\"/></a>"
      ]
    },
    {
      "cell_type": "code",
      "execution_count": null,
      "metadata": {
        "id": "b6Ztsd2RHRzD"
      },
      "outputs": [],
      "source": [
        "import numpy as np"
      ]
    },
    {
      "cell_type": "code",
      "source": [
        "import torch \n",
        "import torch.nn as nn\n",
        "import torch.nn.functional as F\n",
        "from torch.utils.data import DataLoader\n",
        "\n",
        "from torchvision import datasets, transforms\n",
        "import torchvision.models as models\n",
        "\n",
        "import time\n",
        "import os\n",
        "from torchvision.transforms.functional import to_pil_image\n",
        "\n",
        "import matplotlib.pyplot as plt\n",
        "\n",
        "# check device\n",
        "DEVICE = 'cuda' if torch.cuda.is_available() else 'cpu'\n",
        "%config InlineBackend.figure_format = 'retina'"
      ],
      "metadata": {
        "id": "6S5Kd_QPHUoB"
      },
      "execution_count": null,
      "outputs": []
    },
    {
      "cell_type": "code",
      "source": [
        "#data\n",
        "x = np.random.randn(9,4)\n",
        "m = int(input(\"the number of neurons of the student network : \"))\n",
        "w0 = int(input(\"the weight of the teacher network : \"))\n",
        "d = x.ndim"
      ],
      "metadata": {
        "id": "cvrjjN3joYfq"
      },
      "execution_count": null,
      "outputs": []
    },
    {
      "cell_type": "code",
      "source": [
        "class Teacher(nn.Module):\n",
        "  def __init__(self):\n",
        "    super(Teacher, self).__init__()\n",
        "\n",
        "    self.fc = nn.Linear(d,1)\n",
        "    \n",
        "  def forward(self, x):\n",
        "    x = x.fc(x)\n",
        "    probs = F.relu(x)\n",
        "\n",
        "    return probs"
      ],
      "metadata": {
        "id": "NwFN_NrhH1xn"
      },
      "execution_count": null,
      "outputs": []
    },
    {
      "cell_type": "code",
      "source": [
        ""
      ],
      "metadata": {
        "id": "BL7yl7L_v6rP"
      },
      "execution_count": null,
      "outputs": []
    },
    {
      "cell_type": "code",
      "source": [
        ""
      ],
      "metadata": {
        "id": "lqHm4_32v6jT"
      },
      "execution_count": null,
      "outputs": []
    },
    {
      "cell_type": "code",
      "source": [
        "class Student(nn.Module):\n",
        "  def __init__(self):\n",
        "    super(Teacher, self).__init__()\n",
        "\n",
        "    self.fc = nn.Linear(d,1)\n",
        "\n",
        "  def forward(self, x):\n",
        "    x = x.fc(x)\n",
        "    x = F.relu(x)\n",
        "    probs = sum(x)"
      ],
      "metadata": {
        "id": "2QG_P9yfmXrh"
      },
      "execution_count": null,
      "outputs": []
    },
    {
      "cell_type": "code",
      "source": [
        ""
      ],
      "metadata": {
        "id": "P2CfTSirv6BT"
      },
      "execution_count": null,
      "outputs": []
    }
  ]
}